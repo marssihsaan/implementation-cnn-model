{
 "cells": [
  {
   "cell_type": "code",
   "execution_count": 1,
   "metadata": {},
   "outputs": [
    {
     "name": "stdout",
     "output_type": "stream",
     "text": [
      "WARNING:tensorflow:From c:\\Users\\ASUS\\anaconda3\\Lib\\site-packages\\keras\\src\\losses.py:2976: The name tf.losses.sparse_softmax_cross_entropy is deprecated. Please use tf.compat.v1.losses.sparse_softmax_cross_entropy instead.\n",
      "\n",
      "WARNING:tensorflow:From c:\\Users\\ASUS\\anaconda3\\Lib\\site-packages\\keras\\src\\backend.py:1398: The name tf.executing_eagerly_outside_functions is deprecated. Please use tf.compat.v1.executing_eagerly_outside_functions instead.\n",
      "\n",
      "WARNING:tensorflow:From c:\\Users\\ASUS\\anaconda3\\Lib\\site-packages\\keras\\src\\layers\\pooling\\max_pooling2d.py:161: The name tf.nn.max_pool is deprecated. Please use tf.nn.max_pool2d instead.\n",
      "\n",
      "1/1 [==============================] - 0s 317ms/step\n",
      "1/1 [==============================] - 0s 41ms/step\n",
      "1/1 [==============================] - 0s 47ms/step\n",
      "1/1 [==============================] - 0s 38ms/step\n",
      "1/1 [==============================] - 0s 31ms/step\n",
      "1/1 [==============================] - 0s 31ms/step\n",
      "1/1 [==============================] - 0s 31ms/step\n",
      "1/1 [==============================] - 0s 31ms/step\n"
     ]
    },
    {
     "data": {
      "text/html": [
       "<img src=\"https://marssihsaan.github.io/webtesting/img/ttt.png\"/>"
      ],
      "text/plain": [
       "<IPython.core.display.Image object>"
      ]
     },
     "metadata": {},
     "output_type": "display_data"
    },
    {
     "name": "stdout",
     "output_type": "stream",
     "text": [
      "Predicted class: Judi\n"
     ]
    },
    {
     "data": {
      "text/html": [
       "<img src=\"https://marssihsaan.github.io/webtesting/img/judltest.png\"/>"
      ],
      "text/plain": [
       "<IPython.core.display.Image object>"
      ]
     },
     "metadata": {},
     "output_type": "display_data"
    },
    {
     "name": "stdout",
     "output_type": "stream",
     "text": [
      "Predicted class: Judi\n"
     ]
    },
    {
     "data": {
      "text/html": [
       "<img src=\"https://marssihsaan.github.io/webtesting/img/judoltest3.png\"/>"
      ],
      "text/plain": [
       "<IPython.core.display.Image object>"
      ]
     },
     "metadata": {},
     "output_type": "display_data"
    },
    {
     "name": "stdout",
     "output_type": "stream",
     "text": [
      "Predicted class: Judi\n"
     ]
    },
    {
     "data": {
      "text/html": [
       "<img src=\"https://marssihsaan.github.io/webtesting/img/hof.png\"/>"
      ],
      "text/plain": [
       "<IPython.core.display.Image object>"
      ]
     },
     "metadata": {},
     "output_type": "display_data"
    },
    {
     "name": "stdout",
     "output_type": "stream",
     "text": [
      "Predicted class: Non Judi\n"
     ]
    },
    {
     "data": {
      "text/html": [
       "<img src=\"https://marssihsaan.github.io/webtesting/img/event1.jpg\"/>"
      ],
      "text/plain": [
       "<IPython.core.display.Image object>"
      ]
     },
     "metadata": {},
     "output_type": "display_data"
    },
    {
     "name": "stdout",
     "output_type": "stream",
     "text": [
      "Predicted class: Non Judi\n"
     ]
    },
    {
     "data": {
      "text/html": [
       "<img src=\"https://marssihsaan.github.io/webtesting/img/event2.jpeg\"/>"
      ],
      "text/plain": [
       "<IPython.core.display.Image object>"
      ]
     },
     "metadata": {},
     "output_type": "display_data"
    },
    {
     "name": "stdout",
     "output_type": "stream",
     "text": [
      "Predicted class: Non Judi\n"
     ]
    },
    {
     "data": {
      "text/html": [
       "<img src=\"https://marssihsaan.github.io/webtesting/img/ig.png\"/>"
      ],
      "text/plain": [
       "<IPython.core.display.Image object>"
      ]
     },
     "metadata": {},
     "output_type": "display_data"
    },
    {
     "name": "stdout",
     "output_type": "stream",
     "text": [
      "Predicted class: Non Judi\n"
     ]
    },
    {
     "data": {
      "text/html": [
       "<img src=\"https://marssihsaan.github.io/webtesting/img/wa.jpg\"/>"
      ],
      "text/plain": [
       "<IPython.core.display.Image object>"
      ]
     },
     "metadata": {},
     "output_type": "display_data"
    },
    {
     "name": "stdout",
     "output_type": "stream",
     "text": [
      "Predicted class: Non Judi\n"
     ]
    }
   ],
   "source": [
    "#integrasi web\n",
    "from tensorflow.keras.models import load_model\n",
    "import requests\n",
    "from PIL import Image\n",
    "from io import BytesIO\n",
    "import numpy as np\n",
    "import tensorflow as tf\n",
    "from IPython.display import Image as IPImage, display\n",
    "from bs4 import BeautifulSoup\n",
    "from urllib.parse import urljoin, urlparse\n",
    "\n",
    "# Fungsi untuk mengunduh dan membaca gambar dari URL\n",
    "def load_image_from_url(url):\n",
    "    response = requests.get(url)\n",
    "    img = Image.open(BytesIO(response.content)).convert('RGB')\n",
    "    return img\n",
    "\n",
    "# Fungsi untuk mengekstraksi URL gambar dari halaman web\n",
    "def extract_image_urls(url):\n",
    "    image_urls = []\n",
    "    try:\n",
    "        response = requests.get(url)\n",
    "        response.raise_for_status()  # Check for request errors\n",
    "        soup = BeautifulSoup(response.text, 'html.parser')\n",
    "        \n",
    "        for img in soup.find_all('img'):\n",
    "            img_url = img.get('src')\n",
    "            if img_url:\n",
    "                # Convert relative URL to absolute URL\n",
    "                img_url = urljoin(url, img_url)\n",
    "                \n",
    "                # Ensure the URL is valid and well-formed\n",
    "                parsed_url = urlparse(img_url)\n",
    "                if parsed_url.scheme in ['http', 'https']:\n",
    "                    image_urls.append(img_url)\n",
    "    except Exception as e:\n",
    "        print(\"Error:\", e)\n",
    "    return image_urls\n",
    "\n",
    "# Fungsi untuk menampilkan gambar dan prediksi\n",
    "def display_and_predict_images(image_urls, model):\n",
    "    predictions = []\n",
    "    \n",
    "    for img_url in image_urls:\n",
    "        try:\n",
    "            img = load_image_from_url(img_url)\n",
    "            img_array = np.array(img)\n",
    "            \n",
    "            # Preprocess image for the model\n",
    "            resize = tf.image.resize(img_array, (256, 256))\n",
    "            img_expanded = np.expand_dims(resize / 255.0, axis=0)  # Normalize and add batch dimension\n",
    "            \n",
    "            # Make prediction\n",
    "            yhat = model.predict(img_expanded)\n",
    "            class_name = 'Non Judi' if yhat > 0.5 else 'Judi'\n",
    "            \n",
    "            # Append to predictions list\n",
    "            predictions.append((img_url, class_name, yhat))\n",
    "            \n",
    "        except Exception as e:\n",
    "            print(f\"Error processing image {img_url}: {e}\")\n",
    "\n",
    "    # Sort predictions to display 'Judi' first\n",
    "    predictions.sort(key=lambda x: x[1])  # Sort by class name ('Judi' will come before 'Non Judi')\n",
    "\n",
    "    for img_url, class_name, yhat in predictions:\n",
    "        try:\n",
    "            display(IPImage(url=img_url))\n",
    "            print(f'Predicted class: {class_name}')\n",
    "        except Exception as e:\n",
    "            print(f\"Error displaying image {img_url}: {e}\")\n",
    "\n",
    "# URL dari website yang ingin Anda ambil gambar-gambarnya\n",
    "website_url = \"https://marssihsaan.github.io/webtesting/\"\n",
    "\n",
    "# Mengambil URL gambar dari website\n",
    "image_urls = extract_image_urls(website_url)\n",
    "\n",
    "# Muat model h5 Anda\n",
    "model = load_model('models/modelbaru8.h5')  # Corrected path\n",
    "\n",
    "# Menampilkan gambar-gambar dan prediksi\n",
    "display_and_predict_images(image_urls, model)\n"
   ]
  }
 ],
 "metadata": {
  "kernelspec": {
   "display_name": "base",
   "language": "python",
   "name": "python3"
  },
  "language_info": {
   "codemirror_mode": {
    "name": "ipython",
    "version": 3
   },
   "file_extension": ".py",
   "mimetype": "text/x-python",
   "name": "python",
   "nbconvert_exporter": "python",
   "pygments_lexer": "ipython3",
   "version": "3.11.5"
  }
 },
 "nbformat": 4,
 "nbformat_minor": 2
}
